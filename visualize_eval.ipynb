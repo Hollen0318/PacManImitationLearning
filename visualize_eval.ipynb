{
 "cells": [
  {
   "cell_type": "code",
   "execution_count": 8,
   "metadata": {},
   "outputs": [
    {
     "name": "stdout",
     "output_type": "stream",
     "text": [
      "render =  False\n",
      "nepisodes =  1\n"
     ]
    },
    {
     "name": "stderr",
     "output_type": "stream",
     "text": [
      "[INFO:2023-04-30 19:16:08,478] Steps taken over each of 1 episodes: 783\n",
      "[INFO:2023-04-30 19:16:08,479] Total return after 1 episodes: 1770.000\n"
     ]
    }
   ],
   "source": [
    "from utils import validate\n",
    "import utils\n",
    "import random\n",
    "import gymnasium as gym\n",
    "from model import ImitationCNNNet\n",
    "from model import PolicyNetwork\n",
    "import torch\n",
    "n_actions = 9\n",
    "device = \"cpu\"\n",
    "eval_model = ImitationCNNNet(n_actions).to(device)\n",
    "eval_model.load_state_dict(torch.load('saved_model/best_model_2023-04-30.pth'))\n",
    "# validate(eval_model, args.render, args.nepisodes)\n",
    "validate(eval_model, False, 1)"
   ]
  },
  {
   "cell_type": "code",
   "execution_count": 9,
   "metadata": {},
   "outputs": [],
   "source": [
    "def run_evaluation(model):\n",
    "    # We create the environment so it's new and read the observations saved into obs\n",
    "    env = gym.make(\"ALE/MsPacman-v5\")\n",
    "    env_seed = random.randint(0, 9999)\n",
    "    obs = env.reset(seed=env_seed)[0]\n",
    "    obs = utils.preprocess_observation(obs).unsqueeze(0).to(device)\n",
    "    # print(\"obs = \", obs.shape)\n",
    "    total_reward = 0.0\n",
    "    learn_pairs = {}\n",
    "    time_stamp = 0\n",
    "    done = False\n",
    "    prev_state = None\n",
    "    while not done:\n",
    "        action, prev_state = model.get_action(obs, prev_state)\n",
    "        next_obs, reward, done, another_done, info = env.step(action)\n",
    "        total_reward += reward\n",
    "        # print(\"action = \", action, \" reward = \", reward, \" done = \", done, \" another_done = \", another_done, \" info = \", info)\n",
    "        learn_pairs[time_stamp] = (action, reward, total_reward)\n",
    "        time_stamp += 1\n",
    "        obs = utils.preprocess_observation(next_obs).unsqueeze(0).to(device)\n",
    "    # print(\"you died!\")\n",
    "    env.close()\n",
    "    return total_reward"
   ]
  },
  {
   "cell_type": "code",
   "execution_count": 11,
   "metadata": {},
   "outputs": [
    {
     "name": "stdout",
     "output_type": "stream",
     "text": [
      "Until Evaluation # 0 Average reward =  1640.0\n",
      "Until Evaluation # 20 Average reward =  1670.96\n",
      "Until Evaluation # 40 Average reward =  1637.32\n",
      "Until Evaluation # 60 Average reward =  1607.22\n",
      "Until Evaluation # 80 Average reward =  1606.08\n",
      "Until Evaluation # 100 Average reward =  1628.46\n",
      "Until Evaluation # 120 Average reward =  1635.73\n",
      "Until Evaluation # 140 Average reward =  1620.01\n",
      "Until Evaluation # 160 Average reward =  1638.27\n",
      "Until Evaluation # 180 Average reward =  1639.02\n",
      "Until Evaluation # 200 Average reward =  1652.35\n"
     ]
    }
   ],
   "source": [
    "eval_model = ImitationCNNNet(n_actions).to(device)\n",
    "eval_model.load_state_dict(torch.load('saved_model/best_model_2023-04-30.pth'))\n",
    "eval_model.eval()\n",
    "save_path = \"saved_model\"\n",
    "running_avg = 0.0\n",
    "epr_num = 20\n",
    "for idx in range(epr_num+1):\n",
    "    new_reward = run_evaluation(eval_model)\n",
    "    running_avg += (new_reward - running_avg) / (idx+1)\n",
    "    running_avg = round(running_avg, 2)\n",
    "    if idx % 20 == 0:\n",
    "        print(f\"Until Evaluation # {idx} Average reward = \", running_avg)"
   ]
  }
 ],
 "metadata": {
  "kernelspec": {
   "display_name": "EoDL",
   "language": "python",
   "name": "python3"
  },
  "language_info": {
   "codemirror_mode": {
    "name": "ipython",
    "version": 3
   },
   "file_extension": ".py",
   "mimetype": "text/x-python",
   "name": "python",
   "nbconvert_exporter": "python",
   "pygments_lexer": "ipython3",
   "version": "3.9.15"
  },
  "orig_nbformat": 4
 },
 "nbformat": 4,
 "nbformat_minor": 2
}
